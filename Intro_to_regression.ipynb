{
  "nbformat": 4,
  "nbformat_minor": 0,
  "metadata": {
    "colab": {
      "provenance": [],
      "gpuType": "T4",
      "include_colab_link": true
    },
    "kernelspec": {
      "name": "python3",
      "display_name": "Python 3"
    },
    "language_info": {
      "name": "python"
    },
    "accelerator": "GPU"
  },
  "cells": [
    {
      "cell_type": "markdown",
      "metadata": {
        "id": "view-in-github",
        "colab_type": "text"
      },
      "source": [
        "<a href=\"https://colab.research.google.com/github/Mukolwe29/KCB-Data-science-and-AI/blob/master/Intro_to_regression.ipynb\" target=\"_parent\"><img src=\"https://colab.research.google.com/assets/colab-badge.svg\" alt=\"Open In Colab\"/></a>"
      ]
    },
    {
      "cell_type": "markdown",
      "source": [
        "#Intro to regression with DL/ANN"
      ],
      "metadata": {
        "id": "evnd5l4dX4ax"
      }
    },
    {
      "cell_type": "code",
      "source": [
        "import tensorflow as tf\n",
        "print(tf.__version__)"
      ],
      "metadata": {
        "colab": {
          "base_uri": "https://localhost:8080/"
        },
        "id": "BqC717Mxh3yG",
        "outputId": "66fe7272-b057-415a-b442-a17d912540fe"
      },
      "execution_count": null,
      "outputs": [
        {
          "output_type": "stream",
          "name": "stdout",
          "text": [
            "2.15.0\n"
          ]
        }
      ]
    },
    {
      "cell_type": "markdown",
      "source": [
        "##Creating data tp view and fit"
      ],
      "metadata": {
        "id": "-VID-9uviSVt"
      }
    },
    {
      "cell_type": "code",
      "source": [
        "import numpy as np\n",
        "import matplotlib.pyplot as plt\n",
        "\n",
        "#features\n",
        "X = np.array([i for i in range(0,200,3)])\n"
      ],
      "metadata": {
        "id": "L1zgnxPxiqbL"
      },
      "execution_count": null,
      "outputs": []
    },
    {
      "cell_type": "code",
      "source": [
        "X"
      ],
      "metadata": {
        "colab": {
          "base_uri": "https://localhost:8080/"
        },
        "id": "rbqMkP2OIwzu",
        "outputId": "159e4b90-71c3-4273-e93a-2cf0a75b5c8f"
      },
      "execution_count": null,
      "outputs": [
        {
          "output_type": "execute_result",
          "data": {
            "text/plain": [
              "array([  0,   3,   6,   9,  12,  15,  18,  21,  24,  27,  30,  33,  36,\n",
              "        39,  42,  45,  48,  51,  54,  57,  60,  63,  66,  69,  72,  75,\n",
              "        78,  81,  84,  87,  90,  93,  96,  99, 102, 105, 108, 111, 114,\n",
              "       117, 120, 123, 126, 129, 132, 135, 138, 141, 144, 147, 150, 153,\n",
              "       156, 159, 162, 165, 168, 171, 174, 177, 180, 183, 186, 189, 192,\n",
              "       195, 198])"
            ]
          },
          "metadata": {},
          "execution_count": 136
        }
      ]
    },
    {
      "cell_type": "code",
      "source": [],
      "metadata": {
        "id": "vLsAgexrjdDd"
      },
      "execution_count": null,
      "outputs": []
    },
    {
      "cell_type": "code",
      "source": [
        "# labels\n",
        "y = (X**2)-4"
      ],
      "metadata": {
        "id": "TfAEPKu-jW_F"
      },
      "execution_count": null,
      "outputs": []
    },
    {
      "cell_type": "code",
      "source": [
        "y # labels"
      ],
      "metadata": {
        "colab": {
          "base_uri": "https://localhost:8080/"
        },
        "id": "3TIiQ7c_j2tg",
        "outputId": "0a307ae1-b069-4f06-b509-cee426a689e3"
      },
      "execution_count": null,
      "outputs": [
        {
          "output_type": "execute_result",
          "data": {
            "text/plain": [
              "array([   -4,     5,    32,    77,   140,   221,   320,   437,   572,\n",
              "         725,   896,  1085,  1292,  1517,  1760,  2021,  2300,  2597,\n",
              "        2912,  3245,  3596,  3965,  4352,  4757,  5180,  5621,  6080,\n",
              "        6557,  7052,  7565,  8096,  8645,  9212,  9797, 10400, 11021,\n",
              "       11660, 12317, 12992, 13685, 14396, 15125, 15872, 16637, 17420,\n",
              "       18221, 19040, 19877, 20732, 21605, 22496, 23405, 24332, 25277,\n",
              "       26240, 27221, 28220, 29237, 30272, 31325, 32396, 33485, 34592,\n",
              "       35717, 36860, 38021, 39200])"
            ]
          },
          "metadata": {},
          "execution_count": 141
        }
      ]
    },
    {
      "cell_type": "code",
      "source": [
        "#visualize the data we created\n",
        "plt.plot(X,y)"
      ],
      "metadata": {
        "colab": {
          "base_uri": "https://localhost:8080/",
          "height": 448
        },
        "id": "Mm9oMXDwj6AZ",
        "outputId": "8a4cecf0-a387-4210-e585-fcec22e6e436"
      },
      "execution_count": null,
      "outputs": [
        {
          "output_type": "execute_result",
          "data": {
            "text/plain": [
              "[<matplotlib.lines.Line2D at 0x7d5dd932bd60>]"
            ]
          },
          "metadata": {},
          "execution_count": 142
        },
        {
          "output_type": "display_data",
          "data": {
            "text/plain": [
              "<Figure size 640x480 with 1 Axes>"
            ],
            "image/png": "[encoded data removed]"
          },
          "metadata": {}
        }
      ]
    },
    {
      "cell_type": "markdown",
      "source": [
        "##Split dataset"
      ],
      "metadata": {
        "id": "ekDUT_xRmqYf"
      }
    },
    {
      "cell_type": "code",
      "source": [
        "#train set\n",
        "X_train = X[:int(len(X)*0.8)]\n",
        "y_train = y[:int(len(y)*0.8)]\n",
        "\n",
        "#test set\n",
        "X_test = X[int(len(X)*0.8):]\n",
        "y_test = y[int(len(y)*0.8):]"
      ],
      "metadata": {
        "id": "nd0lRPzRmtPf"
      },
      "execution_count": null,
      "outputs": []
    },
    {
      "cell_type": "code",
      "source": [
        "y_test"
      ],
      "metadata": {
        "colab": {
          "base_uri": "https://localhost:8080/"
        },
        "id": "1LyvbxQ_nIJC",
        "outputId": "f5dd8cda-98e8-414f-d1fe-fff39cbd7737"
      },
      "execution_count": null,
      "outputs": [
        {
          "output_type": "execute_result",
          "data": {
            "text/plain": [
              "array([579, 600, 621, 642, 663, 684, 705])"
            ]
          },
          "metadata": {},
          "execution_count": 86
        }
      ]
    },
    {
      "cell_type": "markdown",
      "source": [
        "##Turning data into tensors"
      ],
      "metadata": {
        "id": "yubmrIt2kJqM"
      }
    },
    {
      "cell_type": "code",
      "source": [
        "X_train = tf.constant(X_train)\n",
        "y_train = tf.constant(y_train)\n",
        "\n",
        "\n",
        "X_test = tf.constant(X_test)\n",
        "y_test = tf.constant(y_test)"
      ],
      "metadata": {
        "id": "0I-aYaRdljJu"
      },
      "execution_count": null,
      "outputs": []
    },
    {
      "cell_type": "code",
      "source": [
        "X_train"
      ],
      "metadata": {
        "colab": {
          "base_uri": "https://localhost:8080/"
        },
        "id": "NWoCYNDGvYwy",
        "outputId": "9446dfce-281c-4f24-9a19-67f2575a39ee"
      },
      "execution_count": null,
      "outputs": [
        {
          "output_type": "execute_result",
          "data": {
            "text/plain": [
              "<tf.Tensor: shape=(27,), dtype=int64, numpy=\n",
              "array([ 0,  3,  6,  9, 12, 15, 18, 21, 24, 27, 30, 33, 36, 39, 42, 45, 48,\n",
              "       51, 54, 57, 60, 63, 66, 69, 72, 75, 78])>"
            ]
          },
          "metadata": {},
          "execution_count": 88
        }
      ]
    },
    {
      "cell_type": "code",
      "source": [
        "X_train.shape,y_train.shape,X_test.shape,y_test.shape"
      ],
      "metadata": {
        "colab": {
          "base_uri": "https://localhost:8080/"
        },
        "id": "1fUHnmNrlqT0",
        "outputId": "b3e02625-ed05-4d77-8eee-548f83764174"
      },
      "execution_count": null,
      "outputs": [
        {
          "output_type": "execute_result",
          "data": {
            "text/plain": [
              "(TensorShape([27]), TensorShape([27]), TensorShape([7]), TensorShape([7]))"
            ]
          },
          "metadata": {},
          "execution_count": 89
        }
      ]
    },
    {
      "cell_type": "code",
      "source": [
        "X_train = tf.expand_dims(X_train, axis = -1)"
      ],
      "metadata": {
        "id": "bZ-xUgEAG0QE"
      },
      "execution_count": null,
      "outputs": []
    },
    {
      "cell_type": "code",
      "source": [
        "X_train"
      ],
      "metadata": {
        "colab": {
          "base_uri": "https://localhost:8080/"
        },
        "id": "vrLgUAEXG6IP",
        "outputId": "d1c04976-5d31-44ed-e56f-5dce12ed4bfc"
      },
      "execution_count": null,
      "outputs": [
        {
          "output_type": "execute_result",
          "data": {
            "text/plain": [
              "<tf.Tensor: shape=(27, 1), dtype=int64, numpy=\n",
              "array([[ 0],\n",
              "       [ 3],\n",
              "       [ 6],\n",
              "       [ 9],\n",
              "       [12],\n",
              "       [15],\n",
              "       [18],\n",
              "       [21],\n",
              "       [24],\n",
              "       [27],\n",
              "       [30],\n",
              "       [33],\n",
              "       [36],\n",
              "       [39],\n",
              "       [42],\n",
              "       [45],\n",
              "       [48],\n",
              "       [51],\n",
              "       [54],\n",
              "       [57],\n",
              "       [60],\n",
              "       [63],\n",
              "       [66],\n",
              "       [69],\n",
              "       [72],\n",
              "       [75],\n",
              "       [78]])>"
            ]
          },
          "metadata": {},
          "execution_count": 91
        }
      ]
    },
    {
      "cell_type": "markdown",
      "source": [
        "#Making the model\n",
        "\n",
        "\n",
        "1. Create model\n",
        "2. Compile the model\n",
        "3. Fit the model\n",
        "4. Evaluate the model\n",
        "5. Save the model"
      ],
      "metadata": {
        "id": "lmEFbB5dltJQ"
      }
    },
    {
      "cell_type": "code",
      "source": [
        "# create the model\n",
        "model = tf.keras.Sequential([\n",
        "    tf.keras.layers.Dense(1), #input shape\n",
        "    tf.keras.layers.Dense(100,activation=\"relu\"),\n",
        "    tf.keras.layers.Dense(100,activation=\"relu\"),\n",
        "    tf.keras.layers.Dense(1), #output layer\n",
        "])\n",
        "\n",
        "model.compile(\n",
        "    loss =tf.keras.losses.mae,\n",
        "    optimizer=tf.keras.optimizers.Adam(learning_rate=0.0001),\n",
        "    metrics =[\"mae\"],\n",
        "    run_eagerly=True)"
      ],
      "metadata": {
        "id": "GxUbwnHbmhFq"
      },
      "execution_count": null,
      "outputs": []
    },
    {
      "cell_type": "code",
      "source": [],
      "metadata": {
        "id": "r6p_wQ_pv1fP"
      },
      "execution_count": null,
      "outputs": []
    },
    {
      "cell_type": "code",
      "source": [
        "model.fit(X_train,y_train, epochs = 1000,verbose=None)"
      ],
      "metadata": {
        "colab": {
          "base_uri": "https://localhost:8080/"
        },
        "id": "jkvj1u6jqyUx",
        "outputId": "2b9125aa-237e-4aed-c4d9-3b7522d03ccb"
      },
      "execution_count": null,
      "outputs": [
        {
          "output_type": "execute_result",
          "data": {
            "text/plain": [
              "<keras.src.callbacks.History at 0x7d5dcade10f0>"
            ]
          },
          "metadata": {},
          "execution_count": 99
        }
      ]
    },
    {
      "cell_type": "code",
      "source": [
        "model.evaluate(x= tf.expand_dims(X_test, axis = -1),y = y_test )"
      ],
      "metadata": {
        "colab": {
          "base_uri": "https://localhost:8080/"
        },
        "id": "z8iiQEgJ-gNL",
        "outputId": "f6de8566-340b-4332-be8e-d79d98d97d40"
      },
      "execution_count": null,
      "outputs": [
        {
          "output_type": "stream",
          "name": "stdout",
          "text": [
            "1/1 [==============================] - 0s 79ms/step - loss: 1.2137 - mae: 1.2137\n"
          ]
        },
        {
          "output_type": "execute_result",
          "data": {
            "text/plain": [
              "[1.2137014865875244, 1.2137014865875244]"
            ]
          },
          "metadata": {},
          "execution_count": 100
        }
      ]
    },
    {
      "cell_type": "markdown",
      "source": [
        "# Evaluating the model"
      ],
      "metadata": {
        "id": "SeV99RlZGKoY"
      }
    },
    {
      "cell_type": "code",
      "source": [
        "y_ = model.predict(x= tf.expand_dims(X, axis = -1))"
      ],
      "metadata": {
        "id": "eOZZYWzFw6gB",
        "colab": {
          "base_uri": "https://localhost:8080/"
        },
        "outputId": "242c5bb6-6cda-488d-e36e-f92b60154f14"
      },
      "execution_count": null,
      "outputs": [
        {
          "output_type": "stream",
          "name": "stdout",
          "text": [
            "2/2 [==============================] - 0s 10ms/step\n"
          ]
        }
      ]
    },
    {
      "cell_type": "code",
      "source": [
        "new_y_ = tf.squeeze(y_, axis=None, name=None)"
      ],
      "metadata": {
        "id": "trbX6dE2BQ9r"
      },
      "execution_count": null,
      "outputs": []
    },
    {
      "cell_type": "code",
      "source": [
        "# Plotting both the curves simultaneously\n",
        "plt.plot(X, y, color='r', label='real world data')\n",
        "plt.plot(X, new_y_, color='g', label='model prediction')\n",
        "\n",
        "# Naming the x-axis, y-axis and the whole graph\n",
        "plt.xlabel(\"X\")\n",
        "plt.ylabel(\"y\")\n",
        "\n",
        "# Adding legend, which helps us recognize the curve according to it's color\n",
        "plt.legend()\n",
        "\n",
        "# To load the display window\n",
        "plt.show()"
      ],
      "metadata": {
        "colab": {
          "base_uri": "https://localhost:8080/",
          "height": 449
        },
        "id": "3sPWvH0nCD7f",
        "outputId": "9fd502c5-58d7-44ce-f073-9401de13ff08"
      },
      "execution_count": null,
      "outputs": [
        {
          "output_type": "display_data",
          "data": {
            "text/plain": [
              "<Figure size 640x480 with 1 Axes>"
            ],
            "image/png": "[encoded data removed]"
          },
          "metadata": {}
        }
      ]
    },
    {
      "cell_type": "code",
      "source": [
        "test_y_ = model.predict(x= tf.expand_dims(X_test, axis = -1))"
      ],
      "metadata": {
        "colab": {
          "base_uri": "https://localhost:8080/"
        },
        "id": "ftDK6Wr2H4zh",
        "outputId": "12554bae-00bb-443f-b66a-9c2757fb229b"
      },
      "execution_count": null,
      "outputs": [
        {
          "output_type": "stream",
          "name": "stdout",
          "text": [
            "1/1 [==============================] - 0s 23ms/step\n"
          ]
        }
      ]
    },
    {
      "cell_type": "code",
      "source": [
        "# Plotting both the curves simultaneously\n",
        "plt.scatter(X_test, y_test, color='r', label='real world data')\n",
        "plt.scatter(X_test, test_y_, color='g', label='model prediction')\n",
        "\n",
        "# Naming the x-axis, y-axis and the whole graph\n",
        "plt.xlabel(\"X\")\n",
        "plt.ylabel(\"y\")\n",
        "\n",
        "# Adding legend, which helps us recognize the curve according to it's color\n",
        "plt.legend()\n",
        "\n",
        "# To load the display window\n",
        "plt.show()"
      ],
      "metadata": {
        "id": "6buve4DHCZvc",
        "colab": {
          "base_uri": "https://localhost:8080/",
          "height": 449
        },
        "outputId": "49e6ce74-914e-4fdc-b1a1-3df9ed93d6c7"
      },
      "execution_count": null,
      "outputs": [
        {
          "output_type": "display_data",
          "data": {
            "text/plain": [
              "<Figure size 640x480 with 1 Axes>"
            ],
            "image/png": "[encoded data removed]"
          },
          "metadata": {}
        }
      ]
    },
    {
      "cell_type": "markdown",
      "source": [
        "##Test the model with new data from a user"
      ],
      "metadata": {
        "id": "hMXpRyP-IFUj"
      }
    },
    {
      "cell_type": "code",
      "source": [
        "m=7\n",
        "c=12\n",
        "\n",
        "m*250+c"
      ],
      "metadata": {
        "colab": {
          "base_uri": "https://localhost:8080/"
        },
        "id": "oFFJCD-WImEf",
        "outputId": "89389f40-9e8a-4837-b475-b6eacb48d5d5"
      },
      "execution_count": null,
      "outputs": [
        {
          "output_type": "execute_result",
          "data": {
            "text/plain": [
              "1762"
            ]
          },
          "metadata": {},
          "execution_count": 113
        }
      ]
    },
    {
      "cell_type": "code",
      "source": [
        "model.predict(x= tf.expand_dims([250], axis = -1))"
      ],
      "metadata": {
        "colab": {
          "base_uri": "https://localhost:8080/"
        },
        "id": "T9fWd1O4IqSM",
        "outputId": "d8d2949f-e7f2-4b60-dc5e-298071761aba"
      },
      "execution_count": null,
      "outputs": [
        {
          "output_type": "stream",
          "name": "stdout",
          "text": [
            "1/1 [==============================] - 0s 78ms/step\n"
          ]
        },
        {
          "output_type": "execute_result",
          "data": {
            "text/plain": [
              "array([[1742.719]], dtype=float32)"
            ]
          },
          "metadata": {},
          "execution_count": 114
        }
      ]
    },
    {
      "cell_type": "code",
      "source": [
        "model.save(\"./model_1\")"
      ],
      "metadata": {
        "id": "SQ6RlkRGJC6r"
      },
      "execution_count": null,
      "outputs": []
    },
    {
      "cell_type": "code",
      "source": [],
      "metadata": {
        "id": "iyE4J9WWLhAk"
      },
      "execution_count": null,
      "outputs": []
    }
  ]
}