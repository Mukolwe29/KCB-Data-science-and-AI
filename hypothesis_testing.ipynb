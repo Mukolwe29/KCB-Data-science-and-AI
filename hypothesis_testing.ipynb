{
  "nbformat": 4,
  "nbformat_minor": 0,
  "metadata": {
    "colab": {
      "provenance": [],
      "authorship_tag": "ABX9TyMLAPyTApwum577l15PzC5g",
      "include_colab_link": true
    },
    "kernelspec": {
      "name": "python3",
      "display_name": "Python 3"
    },
    "language_info": {
      "name": "python"
    }
  },
  "cells": [
    {
      "cell_type": "markdown",
      "metadata": {
        "id": "view-in-github",
        "colab_type": "text"
      },
      "source": [
        "<a href=\"https://colab.research.google.com/github/Mukolwe29/KCB-Data-science-and-AI/blob/master/hypothesis_testing.ipynb\" target=\"_parent\"><img src=\"https://colab.research.google.com/assets/colab-badge.svg\" alt=\"Open In Colab\"/></a>"
      ]
    },
    {
      "cell_type": "markdown",
      "source": [
        "We will implement our first real life problem via python"
      ],
      "metadata": {
        "id": "QCKiyBQqM20_"
      }
    },
    {
      "cell_type": "code",
      "execution_count": 1,
      "metadata": {
        "colab": {
          "base_uri": "https://localhost:8080/"
        },
        "id": "aowB_dlWMvhA",
        "outputId": "d4d005a8-cc6e-4906-f1f4-e247ca2e9681"
      },
      "outputs": [
        {
          "output_type": "stream",
          "name": "stdout",
          "text": [
            "T-statistic (from scipy): -9.0\n",
            "P-value (from scipy): 8.538051223166285e-06\n",
            "T-statistic (calculated manually): -9.0\n",
            "Decision: Reject the null hypothesis at alpha=0.05.\n",
            "Conclusion: There is statistically significant evidence that the average blood pressure before and after treatment with the new drug is different.\n"
          ]
        }
      ],
      "source": [
        "import numpy as np\n",
        "from scipy import stats\n",
        "\n",
        "# Data\n",
        "before_treatment = np.array([120, 122, 118, 130, 125, 128, 115, 121, 123, 119])\n",
        "after_treatment = np.array([115, 120, 112, 128, 122, 125, 110, 117, 119, 114])\n",
        "\n"
      ]
    },
    {
      "cell_type": "code",
      "source": [
        "# Step 1: Null and Alternate Hypotheses\n",
        "# Null Hypothesis: The new drug has no effect on blood pressure.\n",
        "# Alternate Hypothesis: The new drug has an effect on blood pressure.\n",
        "null_hypothesis = \"The new drug has no effect on blood pressure.\"\n",
        "alternate_hypothesis = \"The new drug has an effect on blood pressure.\"\n",
        "\n"
      ],
      "metadata": {
        "id": "yV9NSCDvSHrW"
      },
      "execution_count": null,
      "outputs": []
    },
    {
      "cell_type": "code",
      "source": [
        "# Step 2: Significance Level\n",
        "alpha = 0.05\n",
        "\n"
      ],
      "metadata": {
        "id": "wWxbRX2kSEWb"
      },
      "execution_count": null,
      "outputs": []
    },
    {
      "cell_type": "code",
      "source": [
        "# Step 3: Paired T-test\n",
        "t_statistic, p_value = stats.ttest_rel(after_treatment, before_treatment)\n",
        "\n",
        "\n"
      ],
      "metadata": {
        "id": "dMqXvwK4SCQ-"
      },
      "execution_count": null,
      "outputs": []
    },
    {
      "cell_type": "code",
      "source": [
        "# Step 4: Calculate T-statistic manually\n",
        "m = np.mean(after_treatment - before_treatment)\n",
        "s = np.std(after_treatment - before_treatment, ddof=1)  # using ddof=1 for sample standard deviation\n",
        "n = len(before_treatment)\n",
        "t_statistic_manual = m / (s / np.sqrt(n))\n",
        ""
      ],
      "metadata": {
        "id": "3NMHujTWR-cm"
      },
      "execution_count": null,
      "outputs": []
    },
    {
      "cell_type": "code",
      "source": [
        "# Step 5: Decision\n",
        "if p_value <= alpha:\n",
        "    decision = \"Reject\"\n",
        "else:\n",
        "    decision = \"Fail to reject\"\n",
        "\n",
        "# Conclusion\n",
        "if decision == \"Reject\":\n",
        "    conclusion = \"There is statistically significant evidence that the average blood pressure before and after treatment with the new drug is different.\"\n",
        "else:\n",
        "    conclusion = \"There is insufficient evidence to claim a significant difference in average blood pressure before and after treatment with the new drug.\"\n",
        "\n",
        "\n"
      ],
      "metadata": {
        "id": "Z5OXrxw8R2K9"
      },
      "execution_count": null,
      "outputs": []
    },
    {
      "cell_type": "code",
      "source": [
        "# Display results\n",
        "print(\"T-statistic (from scipy):\", t_statistic)\n",
        "print(\"P-value (from scipy):\", p_value)\n",
        "print(\"T-statistic (calculated manually):\", t_statistic_manual)\n",
        "print(f\"Decision: {decision} the null hypothesis at alpha={alpha}.\")\n",
        "print(\"Conclusion:\", conclusion)"
      ],
      "metadata": {
        "id": "PoZuKIxjRwGj"
      },
      "execution_count": null,
      "outputs": []
    },
    {
      "cell_type": "code",
      "source": [],
      "metadata": {
        "id": "ErPqZqgqRwtE"
      },
      "execution_count": null,
      "outputs": []
    },
    {
      "cell_type": "markdown",
      "source": [
        "In the above example, given the T-statistic of approximately -9 and an extremely small p-value, the results indicate a strong case to reject the null hypothesis at a significance level of 0.05.\n"
      ],
      "metadata": {
        "id": "21uHpZdcNvb1"
      }
    },
    {
      "cell_type": "markdown",
      "source": [],
      "metadata": {
        "id": "UiQ4gtC2OdY-"
      }
    },
    {
      "cell_type": "code",
      "source": [
        "import scipy.stats as stats\n",
        "import math\n",
        "import numpy as np\n",
        "\n",
        "# Given data\n",
        "sample_data = np.array(\n",
        "    [205, 198, 210, 190, 215, 205, 200, 192, 198, 205, 198, 202, 208, 200, 205, 198, 205, 210, 192, 205, 198, 205, 210, 192, 205])\n",
        "population_std_dev = 5\n",
        "population_mean = 200\n",
        "sample_size = len(sample_data)\n",
        "\n",
        "# Step 1: Define the Hypotheses\n",
        "# Null Hypothesis (H0): The average cholesterol level in a population is 200 mg/dL.\n",
        "# Alternate Hypothesis (H1): The average cholesterol level in a population is different from 200 mg/dL.\n",
        "\n",
        "# Step 2: Define the Significance Level\n",
        "alpha = 0.05  # Two-tailed test\n",
        "\n",
        "# Critical values for a significance level of 0.05 (two-tailed)\n",
        "critical_value_left = stats.norm.ppf(alpha/2)\n",
        "critical_value_right = -critical_value_left\n",
        "\n",
        "# Step 3: Compute the test statistic\n",
        "sample_mean = sample_data.mean()\n",
        "z_score = (sample_mean - population_mean) / \\\n",
        "    (population_std_dev / math.sqrt(sample_size))\n",
        "\n",
        "# Step 4: Result\n",
        "# Check if the absolute value of the test statistic is greater than the critical values\n",
        "if abs(z_score) > max(abs(critical_value_left), abs(critical_value_right)):\n",
        "    print(\"Reject the null hypothesis.\")\n",
        "    print(\"There is statistically significant evidence that the average cholesterol level in the population is different from 200 mg/dL.\")\n",
        "else:\n",
        "    print(\"Fail to reject the null hypothesis.\")\n",
        "    print(\"There is not enough evidence to conclude that the average cholesterol level in the population is different from 200 mg/dL.\")\n"
      ],
      "metadata": {
        "colab": {
          "base_uri": "https://localhost:8080/"
        },
        "id": "jgQ-tnbzOdoc",
        "outputId": "ec437852-7f51-4e7c-af81-3dace98fcad7"
      },
      "execution_count": 2,
      "outputs": [
        {
          "output_type": "stream",
          "name": "stdout",
          "text": [
            "Reject the null hypothesis.\n",
            "There is statistically significant evidence that the average cholesterol level in the population is different from 200 mg/dL.\n"
          ]
        }
      ]
    },
    {
      "cell_type": "markdown",
      "source": [],
      "metadata": {
        "id": "iXf_Lj7cOiP9"
      }
    }
  ]
}