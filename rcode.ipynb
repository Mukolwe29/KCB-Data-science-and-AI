{
  "cells": [
    {
      "cell_type": "markdown",
      "metadata": {
        "id": "view-in-github",
        "colab_type": "text"
      },
      "source": [
        "<a href=\"https://colab.research.google.com/github/Mukolwe29/KCB-Data-science-and-AI/blob/master/rcode.ipynb\" target=\"_parent\"><img src=\"https://colab.research.google.com/assets/colab-badge.svg\" alt=\"Open In Colab\"/></a>"
      ]
    },
    {
      "cell_type": "code",
      "execution_count": null,
      "metadata": {
        "colab": {
          "background_save": true,
          "base_uri": "https://localhost:8080/"
        },
        "id": "ondR5kHe8HSH",
        "outputId": "0ef3132a-9f93-49be-ae79-af7390c0f282"
      },
      "outputs": [
        {
          "name": "stderr",
          "output_type": "stream",
          "text": [
            "Installing package into ‘/usr/local/lib/R/site-library’\n",
            "(as ‘lib’ is unspecified)\n",
            "\n",
            "also installing the dependencies ‘truncnorm’, ‘FNN’, ‘kernlab’, ‘mclust’, ‘multicool’, ‘mvtnorm’, ‘pracma’, ‘DistributionUtils’, ‘GeneralizedHyperbolic’, ‘Rsolnp’, ‘ks’, ‘numDeriv’, ‘spd’, ‘xts’, ‘zoo’, ‘chron’, ‘SkewHyperbolic’, ‘Rcpp’, ‘nloptr’, ‘RcppArmadillo’\n",
            "\n",
            "\n",
            "Installing package into ‘/usr/local/lib/R/site-library’\n",
            "(as ‘lib’ is unspecified)\n",
            "\n",
            "Installing package into ‘/usr/local/lib/R/site-library’\n",
            "(as ‘lib’ is unspecified)\n",
            "\n",
            "also installing the dependencies ‘TTR’, ‘quadprog’, ‘quantmod’, ‘fracdiff’, ‘timeDate’, ‘tseries’, ‘urca’\n",
            "\n",
            "\n",
            "Installing package into ‘/usr/local/lib/R/site-library’\n",
            "(as ‘lib’ is unspecified)\n",
            "\n",
            "also installing the dependencies ‘rbibutils’, ‘gss’, ‘stabledist’, ‘gbutils’, ‘Rdpack’, ‘fBasics’, ‘timeSeries’, ‘fastICA’, ‘cvar’\n",
            "\n",
            "\n",
            "Installing package into ‘/usr/local/lib/R/site-library’\n",
            "(as ‘lib’ is unspecified)\n",
            "\n"
          ]
        }
      ],
      "source": [
        "install.packages(\"rugarch\")\n",
        "install.packages(\"lmtest\")\n",
        "install.packages(\"forecast\")\n",
        "install.packages(\"fGarch\")\n",
        "install.packages(\"urca\")\n",
        "\n",
        "\n"
      ]
    },
    {
      "cell_type": "markdown",
      "metadata": {
        "id": "_fnx4IVjWrbt"
      },
      "source": []
    },
    {
      "cell_type": "code",
      "execution_count": null,
      "metadata": {
        "colab": {
          "background_save": true
        },
        "id": "hQzgXBvAWruI",
        "outputId": "0f73b1be-6774-41f6-a483-f1e81ede15d8"
      },
      "outputs": [
        {
          "name": "stderr",
          "output_type": "stream",
          "text": [
            "Loading required package: parallel\n",
            "\n",
            "\n",
            "Attaching package: ‘rugarch’\n",
            "\n",
            "\n",
            "The following object is masked from ‘package:stats’:\n",
            "\n",
            "    sigma\n",
            "\n",
            "\n",
            "Loading required package: zoo\n",
            "\n",
            "\n",
            "Attaching package: ‘zoo’\n",
            "\n",
            "\n",
            "The following objects are masked from ‘package:base’:\n",
            "\n",
            "    as.Date, as.Date.numeric\n",
            "\n",
            "\n",
            "Registered S3 method overwritten by 'quantmod':\n",
            "  method            from\n",
            "  as.zoo.data.frame zoo \n",
            "\n",
            "NOTE: Packages 'fBasics', 'timeDate', and 'timeSeries' are no longer\n",
            "attached to the search() path when 'fGarch' is attached.\n",
            "\n",
            "If needed attach them yourself in your R script by e.g.,\n",
            "        require(\"timeSeries\")\n",
            "\n"
          ]
        }
      ],
      "source": [
        "library(rugarch)\n",
        "library(lmtest)\n",
        "library(forecast)\n",
        "library(fGarch)\n",
        "library(urca)\n"
      ]
    },
    {
      "cell_type": "code",
      "execution_count": null,
      "metadata": {
        "id": "yd3f_VSJW0rb"
      },
      "outputs": [],
      "source": [
        "data<-read.csv(\"C:\\Users\\ADMIN\\Downloads\\COILWTICO.csv\")\n",
        "tail(data)\n"
      ]
    },
    {
      "cell_type": "code",
      "execution_count": null,
      "metadata": {
        "colab": {
          "background_save": true
        },
        "id": "ioBbSoU8XTz7"
      },
      "outputs": [],
      "source": [
        "ts_data<-ts(data[,2], start = c(2004,1), end = c(2024,1), frequency = 12)\n"
      ]
    },
    {
      "cell_type": "code",
      "execution_count": null,
      "metadata": {
        "colab": {
          "background_save": true
        },
        "id": "ZEkWfJiZXWZl",
        "outputId": "38a9cc42-0c87-49fa-8f58-860c16874d8b"
      },
      "outputs": [
        {
          "data": {
            "image/png": "[encoded data removed]",
            "text/plain": [
              "plot without title"
            ]
          },
          "metadata": {
            "image/png": {
              "height": 420,
              "width": 420
            }
          },
          "output_type": "display_data"
        },
        {
          "data": {
            "image/png": "[encoded data removed]",
            "text/plain": [
              "Plot with title “Series  ts_data”"
            ]
          },
          "metadata": {
            "image/png": {
              "height": 420,
              "width": 420
            }
          },
          "output_type": "display_data"
        }
      ],
      "source": [
        "plot(ts_data)\n",
        "grid()\n",
        "acf(ts_data)\n"
      ]
    },
    {
      "cell_type": "code",
      "execution_count": null,
      "metadata": {
        "id": "aMSfzVBKXWgn"
      },
      "outputs": [],
      "source": [
        "summary(ur.df(ts_data, type = \"drift\", selectlags = \"AIC\"))\n",
        "\n"
      ]
    },
    {
      "cell_type": "code",
      "execution_count": null,
      "metadata": {
        "id": "juJclgiOXWif"
      },
      "outputs": [],
      "source": [
        "dl_data<-diff(log(ts_data))"
      ]
    },
    {
      "cell_type": "code",
      "execution_count": null,
      "metadata": {
        "id": "vI2ZLCDpXWkz"
      },
      "outputs": [],
      "source": [
        "summary(ur.df(dl_data, type = \"drift\", selectlags = \"AIC\"))\n"
      ]
    },
    {
      "cell_type": "code",
      "execution_count": null,
      "metadata": {
        "id": "n3sty_1TXWnL"
      },
      "outputs": [],
      "source": [
        "plot(dl_data, ylab=\"\", xlab=\"\")\n",
        "grid()\n"
      ]
    },
    {
      "cell_type": "code",
      "execution_count": null,
      "metadata": {
        "id": "10YW3AXDXWps"
      },
      "outputs": [],
      "source": [
        "par(mfrow = c(1, 2))\n",
        "acf(dl_data)\n",
        "pacf(dl_data)\n",
        "\n"
      ]
    },
    {
      "cell_type": "code",
      "execution_count": null,
      "metadata": {
        "id": "h3tLza9qXWsS"
      },
      "outputs": [],
      "source": [
        "par(mfrow = c(1, 1))\n",
        "ar1<-arima(dl_data, c(1,0,0))\n",
        "ar1\n"
      ]
    },
    {
      "cell_type": "code",
      "execution_count": null,
      "metadata": {
        "id": "ljAuq0zxXWu5"
      },
      "outputs": [],
      "source": [
        "summary(ar1)\n",
        "res1 <- residuals(ar1)\n",
        "pacf(res1)\n",
        "coeftest(ar1)\n",
        "\n"
      ]
    },
    {
      "cell_type": "code",
      "execution_count": null,
      "metadata": {
        "id": "59mML2lqXWyj"
      },
      "outputs": [],
      "source": [
        "ar2<-arima(dl_data, c(2,0,0))\n",
        "ar2\n",
        "summary(ar1)\n",
        "res2 <- residuals(ar2)\n",
        "pacf(res2)\n",
        "coeftest(ar2)\n",
        "\n",
        "\n",
        "\n",
        "\n",
        "\n",
        "\n",
        "\n",
        "\n",
        "\n",
        "\n",
        "\n",
        "\n",
        "\n",
        "\n",
        "\n",
        "\n",
        "\n",
        "\n",
        "\n",
        "vol_tgarch11 <- ts(tGarchModel11@fit$sigma^2,end = c(2024,1), frequency = 12)\n",
        "plot(vol_tgarch11, xlab=\"\", ylab=\"\")\n",
        "\n",
        "acf(residuals(tGarchModel11, standardize = TRUE))\n",
        "acf(residuals(tGarchModel11, standardize = TRUE)^2)\n",
        "\n",
        "forec <- ugarchforecast(tGarchModel11, data = dl_data, n.ahead = 12)\n",
        "forec\n",
        "plot(forec, which=1)\n"
      ]
    },
    {
      "cell_type": "code",
      "execution_count": null,
      "metadata": {
        "id": "x6VfL_c-X8S9"
      },
      "outputs": [],
      "source": [
        "ma1<-arima(dl_data, c(0,0,1))\n",
        "ma1\n",
        "summary(ma1)\n",
        "res3 <- residuals(ma1)\n",
        "pacf(res3)\n",
        "coeftest(ma1)"
      ]
    },
    {
      "cell_type": "code",
      "execution_count": null,
      "metadata": {
        "id": "WWQenwPnX2ej"
      },
      "outputs": [],
      "source": [
        "ar1$aic\n",
        "ar2$aic\n",
        "ma1$aic"
      ]
    },
    {
      "cell_type": "code",
      "execution_count": null,
      "metadata": {
        "id": "Tf5JCYONYCyA"
      },
      "outputs": [],
      "source": [
        "forecast <- forecast(ar1, h=12)\n",
        "plot(forecast)\n",
        "grid()\n",
        "forecast\n"
      ]
    },
    {
      "cell_type": "code",
      "execution_count": null,
      "metadata": {
        "id": "UhyyIvHYYCzx"
      },
      "outputs": [],
      "source": [
        "ar1_su_log <- arima(log(ts_data), c(1,0,0))\n",
        "forecast <- forecast(ar1_su_log, h=12)\n",
        "plot(forecast)\n",
        "grid()"
      ]
    },
    {
      "cell_type": "code",
      "execution_count": null,
      "metadata": {
        "id": "8d2xOPMDYC2U"
      },
      "outputs": [],
      "source": [
        "checkresiduals(ar1)\n",
        "checkresiduals(ar1_su_log)"
      ]
    },
    {
      "cell_type": "code",
      "execution_count": null,
      "metadata": {
        "id": "p9AMU-fwYC49"
      },
      "outputs": [],
      "source": [
        "# GARCH(1,0)\n",
        "spec.garch10 <- ugarchspec(variance.model = list(model = \"sGARCH\",\n",
        "                                                 garchOrder = c(1,0)),\n",
        "                           mean.model = list(armaOrder=c(1,0)))\n",
        "garchModel10 <- ugarchfit(spec.garch10, data=dl_data)\n",
        "garchModel10\n"
      ]
    },
    {
      "cell_type": "code",
      "execution_count": null,
      "metadata": {
        "id": "it9xR579YC7b"
      },
      "outputs": [],
      "source": [
        "vol_garch10 <- ts(garchModel10@fit$sigma^2,end = c(2024,1), frequency = 12)\n",
        "plot(vol_garch10, xlab=\"\", ylab=\"\")\n",
        "grid()\n"
      ]
    },
    {
      "cell_type": "code",
      "execution_count": null,
      "metadata": {
        "id": "SY1TnhQcYC-B"
      },
      "outputs": [],
      "source": [
        "# GARCH(1,1)\n",
        "spec.garch11 <- ugarchspec(variance.model = list(model = \"sGARCH\",\n",
        "                                                 garchOrder = c(1,1)),\n",
        "                           mean.model = list(armaOrder=c(1,0)))\n",
        "garchModel11 <- ugarchfit(spec.garch11, data=dl_data)\n",
        "garchModel11\n",
        "\n",
        "vol_garch11 <- ts(garchModel11@fit$sigma^2,end = c(2024,1), frequency = 12)\n",
        "plot(vol_garch11, xlab=\"\", ylab=\"\")"
      ]
    },
    {
      "cell_type": "code",
      "execution_count": null,
      "metadata": {
        "id": "e_04XbobYDAj"
      },
      "outputs": [],
      "source": [
        "# EGARCH(1,1)\n",
        "spec.egarch11 <- ugarchspec(variance.model = list(model = \"eGARCH\",\n",
        "                                                  garchOrder = c(1,1)),\n",
        "                            mean.model = list(armaOrder=c(1,0)))\n",
        "eGarchModel11 <- ugarchfit(spec.egarch11, data=dl_data)\n",
        "eGarchModel11\n",
        "\n",
        "vol_egarch11 <- ts(eGarchModel11@fit$sigma^2,end = c(2024,1), frequency = 12)\n",
        "plot(vol_egarch11, xlab=\"\", ylab=\"\")"
      ]
    },
    {
      "cell_type": "code",
      "execution_count": null,
      "metadata": {
        "id": "brAeUlqcYDDq"
      },
      "outputs": [],
      "source": [
        "# TGARCH(1,0)\n",
        "spec.tgarch10 <- ugarchspec(\n",
        "  variance.model = list(model = \"fGARCH\",\n",
        "                        submodel = \"TGARCH\",\n",
        "                        garchOrder = c(1,0)\n",
        "  ),\n",
        "  mean.model = list(armaOrder=c(1,0))\n",
        ")\n",
        "\n",
        "tGarchModel10 <- ugarchfit(spec.tgarch10, data=dl_data)\n",
        "tGarchModel10\n",
        "\n",
        "vol_tgarch10 <- ts(tGarchModel10@fit$sigma^2,end = c(2024,1), frequency = 12)\n",
        "plot(vol_tgarch10, xlab=\"\", ylab=\"\")"
      ]
    },
    {
      "cell_type": "code",
      "execution_count": null,
      "metadata": {
        "id": "CHvw3hfeYpkq"
      },
      "outputs": [],
      "source": [
        "# TGARCH(1,1)\n",
        "spec.tgarch11 <- ugarchspec(\n",
        "  variance.model = list(model = \"fGARCH\",\n",
        "                        submodel = \"TGARCH\",\n",
        "                        garchOrder = c(1,1)\n",
        "  ),\n",
        "  mean.model = list(armaOrder=c(1,0))\n",
        ")\n",
        "\n",
        "tGarchModel11 <- ugarchfit(spec.tgarch11, data=dl_data)\n",
        "tGarchModel11\n"
      ]
    },
    {
      "cell_type": "code",
      "execution_count": null,
      "metadata": {
        "id": "kLfe8rYTYqE9"
      },
      "outputs": [],
      "source": []
    },
    {
      "cell_type": "code",
      "execution_count": null,
      "metadata": {
        "id": "AxsYlKWRYqH8"
      },
      "outputs": [],
      "source": []
    }
  ],
  "metadata": {
    "colab": {
      "provenance": [],
      "authorship_tag": "ABX9TyP0XhZ8BQWT99PqAHsZMK0l",
      "include_colab_link": true
    },
    "kernelspec": {
      "display_name": "R",
      "name": "ir"
    },
    "language_info": {
      "name": "R"
    }
  },
  "nbformat": 4,
  "nbformat_minor": 0
}